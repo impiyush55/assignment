{
 "cells": [
  {
   "cell_type": "code",
   "execution_count": 1,
   "id": "42d03df2-50af-4c34-b95f-fd91bbe02b4c",
   "metadata": {},
   "outputs": [
    {
     "name": "stdout",
     "output_type": "stream",
     "text": [
      "you will be a part of A1 batch\n"
     ]
    }
   ],
   "source": [
    "#static value\n",
    "marks = 65\n",
    "if marks >= 80:\n",
    "    print(\"you will be a part of A0 batch\")\n",
    "elif marks >= 60 and marks < 80:\n",
    "    print(\"you will be a part of A1 batch\")\n",
    "elif marks >= 40 and marks < 60:\n",
    "    print(\"you will be a part of A2 batch\")\n",
    "else:\n",
    "    print(\"you will be a part of A3 batch\")\n",
    "    "
   ]
  },
  {
   "cell_type": "code",
   "execution_count": 2,
   "id": "cd3d2d1d-0db9-4fc1-ac21-4f9f9498ded6",
   "metadata": {},
   "outputs": [
    {
     "name": "stdin",
     "output_type": "stream",
     "text": [
      "enter marks of student : 87\n"
     ]
    },
    {
     "name": "stdout",
     "output_type": "stream",
     "text": [
      "you will be a part of A0 batch\n"
     ]
    }
   ],
   "source": [
    "#dynamic value\n",
    "marks = int(input(\"enter marks of student :\"))\n",
    "if marks >= 80:\n",
    "    print(\"you will be a part of A0 batch\")\n",
    "elif marks >= 60 and marks < 80:\n",
    "    print(\"you will be a part of A1 batch\")\n",
    "elif marks >= 40 and marks < 60:\n",
    "    print(\"you will be a part of A2 batch\")\n",
    "else:\n",
    "    print(\"you will be a part of A3 batch\")"
   ]
  },
  {
   "cell_type": "code",
   "execution_count": 4,
   "id": "1fdd968b-aa65-485f-9af7-d047486b3895",
   "metadata": {},
   "outputs": [
    {
     "name": "stdin",
     "output_type": "stream",
     "text": [
      "enter price  500\n"
     ]
    },
    {
     "name": "stdout",
     "output_type": "stream",
     "text": [
      "i will purchase\n"
     ]
    }
   ],
   "source": [
    "price = int(input(\"enter price \"))\n",
    "if price > 1000:\n",
    "    print(\"i will not purchase\")\n",
    "else:\n",
    "    print(\"i will purchase\")"
   ]
  },
  {
   "cell_type": "code",
   "execution_count": 6,
   "id": "e9e1c900-8589-4d84-be3f-7f9d339302e6",
   "metadata": {},
   "outputs": [
    {
     "name": "stdin",
     "output_type": "stream",
     "text": [
      "enter price  7000\n"
     ]
    },
    {
     "name": "stdout",
     "output_type": "stream",
     "text": [
      "i will not purchase\n"
     ]
    }
   ],
   "source": [
    "price = int(input(\"enter price \"))\n",
    "if price > 1000:\n",
    "    print(\"i will not purchase\")"
   ]
  },
  {
   "cell_type": "code",
   "execution_count": 7,
   "id": "fd964a86-4b76-4dbc-afcc-188fc04951dc",
   "metadata": {},
   "outputs": [
    {
     "name": "stdin",
     "output_type": "stream",
     "text": [
      "enter price  200\n"
     ]
    }
   ],
   "source": [
    "price = int(input(\"enter price \"))\n",
    "if price > 1000:\n",
    "    print(\"i will not purchase\")"
   ]
  },
  {
   "cell_type": "code",
   "execution_count": 9,
   "id": "f9545754-ff8b-4603-b469-8caec5e20250",
   "metadata": {},
   "outputs": [
    {
     "name": "stdin",
     "output_type": "stream",
     "text": [
      "enter price  1500\n"
     ]
    },
    {
     "name": "stdout",
     "output_type": "stream",
     "text": [
      "i will not purchase\n",
      "its ok\n"
     ]
    }
   ],
   "source": [
    "price = int(input(\"enter price \"))\n",
    "if price > 1000:\n",
    "    print(\"i will not purchase\")\n",
    "    if price >5000:\n",
    "        print(\"this is too much\")\n",
    "    elif price < 2000:\n",
    "        print(\"its ok\")"
   ]
  },
  {
   "cell_type": "code",
   "execution_count": 10,
   "id": "0ee506b1-f23b-4c3d-8606-9e9349db277b",
   "metadata": {},
   "outputs": [],
   "source": [
    "l=[1,2,3,3,4,5,6,7,8]"
   ]
  },
  {
   "cell_type": "code",
   "execution_count": 11,
   "id": "8efc025a-0116-4283-a219-0165b4470f3b",
   "metadata": {},
   "outputs": [
    {
     "name": "stdout",
     "output_type": "stream",
     "text": [
      "1\n",
      "2\n",
      "3\n",
      "3\n",
      "4\n",
      "5\n",
      "6\n",
      "7\n",
      "8\n"
     ]
    }
   ],
   "source": [
    "for i in l :\n",
    "    print(i)"
   ]
  },
  {
   "cell_type": "code",
   "execution_count": 12,
   "id": "bbd0bc24-fecb-40d3-a93e-afb7eb89e43d",
   "metadata": {},
   "outputs": [
    {
     "name": "stdout",
     "output_type": "stream",
     "text": [
      "[1, 2, 3, 3, 4, 5, 6, 7, 8]\n",
      "[1, 2, 3, 3, 4, 5, 6, 7, 8]\n",
      "[1, 2, 3, 3, 4, 5, 6, 7, 8]\n",
      "[1, 2, 3, 3, 4, 5, 6, 7, 8]\n",
      "[1, 2, 3, 3, 4, 5, 6, 7, 8]\n",
      "[1, 2, 3, 3, 4, 5, 6, 7, 8]\n",
      "[1, 2, 3, 3, 4, 5, 6, 7, 8]\n",
      "[1, 2, 3, 3, 4, 5, 6, 7, 8]\n",
      "[1, 2, 3, 3, 4, 5, 6, 7, 8]\n"
     ]
    }
   ],
   "source": [
    "for i in l:\n",
    "    print(l)"
   ]
  },
  {
   "cell_type": "code",
   "execution_count": 13,
   "id": "2ec2d7c4-25f6-4dca-a68e-6dbc4b92ff26",
   "metadata": {},
   "outputs": [],
   "source": [
    "l=[1,2,3,3,4,5,6,7,8]"
   ]
  },
  {
   "cell_type": "code",
   "execution_count": 4,
   "id": "1bfb9b14-183d-4f67-bef2-671eb21068f1",
   "metadata": {},
   "outputs": [],
   "source": [
    "l=[1,2,3,3,4,5,6,7,8]"
   ]
  },
  {
   "cell_type": "code",
   "execution_count": 5,
   "id": "76ce9b49-fc97-4a43-9a67-c5a8b5e9e972",
   "metadata": {},
   "outputs": [
    {
     "data": {
      "text/plain": [
       "[1, 2, 3, 3, 4, 5, 6, 7, 8]"
      ]
     },
     "execution_count": 5,
     "metadata": {},
     "output_type": "execute_result"
    }
   ],
   "source": [
    "l"
   ]
  },
  {
   "cell_type": "code",
   "execution_count": 6,
   "id": "c0e9e7c4-ba74-41af-bba0-1977c5d32967",
   "metadata": {},
   "outputs": [
    {
     "name": "stdout",
     "output_type": "stream",
     "text": [
      "2\n",
      "3\n",
      "4\n",
      "4\n",
      "5\n",
      "6\n",
      "7\n",
      "8\n",
      "9\n"
     ]
    }
   ],
   "source": [
    "for i in l:\n",
    "    print(i+1)"
   ]
  },
  {
   "cell_type": "code",
   "execution_count": 7,
   "id": "b0e1faba-b9c2-47ac-ab57-1c508dab166a",
   "metadata": {},
   "outputs": [
    {
     "name": "stdout",
     "output_type": "stream",
     "text": [
      "2\n",
      "3\n",
      "4\n",
      "4\n",
      "5\n",
      "6\n",
      "7\n",
      "8\n",
      "9\n"
     ]
    }
   ],
   "source": [
    "l1 = []\n",
    "for i in l :\n",
    "    print(i+1)"
   ]
  },
  {
   "cell_type": "code",
   "execution_count": 11,
   "id": "8373a240-fcf7-469b-b889-d6bc936bd47b",
   "metadata": {},
   "outputs": [
    {
     "name": "stdout",
     "output_type": "stream",
     "text": [
      "2\n",
      "3\n",
      "4\n",
      "4\n",
      "5\n",
      "6\n",
      "7\n",
      "8\n",
      "9\n"
     ]
    },
    {
     "data": {
      "text/plain": [
       "[2, 3, 4, 4, 5, 6, 7, 8, 9]"
      ]
     },
     "execution_count": 11,
     "metadata": {},
     "output_type": "execute_result"
    }
   ],
   "source": [
    "l1 = []\n",
    "for i in l :\n",
    "    print(i+1)\n",
    "    l1.append(i+1)\n",
    "l1"
   ]
  },
  {
   "cell_type": "code",
   "execution_count": 15,
   "id": "fc782afc-313e-4ab3-90c3-acf276ede424",
   "metadata": {},
   "outputs": [],
   "source": [
    "l = [\"piyush\", \"ranjan\",\"pwskills\",\"course\"]"
   ]
  },
  {
   "cell_type": "code",
   "execution_count": 16,
   "id": "4a0ab89c-8932-41d4-bd5a-e40b659b01a8",
   "metadata": {},
   "outputs": [
    {
     "name": "stdout",
     "output_type": "stream",
     "text": [
      "piyush\n",
      "ranjan\n",
      "pwskills\n",
      "course\n"
     ]
    }
   ],
   "source": [
    "for i in l:\n",
    "    print(i)"
   ]
  },
  {
   "cell_type": "code",
   "execution_count": 17,
   "id": "45cdebb3-d418-46a5-b397-eb193aa59935",
   "metadata": {},
   "outputs": [
    {
     "name": "stdout",
     "output_type": "stream",
     "text": [
      "piyush\n",
      "ranjan\n",
      "pwskills\n",
      "course\n"
     ]
    }
   ],
   "source": [
    "#convert uppercase\n",
    "l1 = []\n",
    "for i in l :\n",
    "    print(i)\n",
    "    l1.append(i.upper())\n",
    "    "
   ]
  },
  {
   "cell_type": "code",
   "execution_count": 18,
   "id": "e49fa392-c4b6-4e9f-b497-3d77f3c3c4b6",
   "metadata": {},
   "outputs": [
    {
     "data": {
      "text/plain": [
       "['PIYUSH', 'RANJAN', 'PWSKILLS', 'COURSE']"
      ]
     },
     "execution_count": 18,
     "metadata": {},
     "output_type": "execute_result"
    }
   ],
   "source": [
    "l1"
   ]
  },
  {
   "cell_type": "code",
   "execution_count": 26,
   "id": "972982ed-8806-4a81-adfb-5559fb62bd43",
   "metadata": {},
   "outputs": [],
   "source": [
    "l = [1,2,3,4,4,\"piyush\",\"ranjan\",324,34.456,\"abc\"]"
   ]
  },
  {
   "cell_type": "code",
   "execution_count": 27,
   "id": "b2b31e0f-bbe9-40a3-8b6a-cfddfb8b3754",
   "metadata": {},
   "outputs": [],
   "source": [
    "#list me se string or number ko alag alag krna hai\n",
    "l1_num = []\n",
    "l2_str = []\n",
    "for i in l :\n",
    "    if type(i) == int or type(i) == float:\n",
    "        l1_num.append(i)\n",
    "    else: \n",
    "        l2_str.append(i)\n",
    "        "
   ]
  },
  {
   "cell_type": "code",
   "execution_count": 28,
   "id": "536a256c-e62c-48ec-a271-cc4b25efa65d",
   "metadata": {},
   "outputs": [
    {
     "data": {
      "text/plain": [
       "[1, 2, 3, 4, 4, 324, 34.456]"
      ]
     },
     "execution_count": 28,
     "metadata": {},
     "output_type": "execute_result"
    }
   ],
   "source": [
    "l1_num"
   ]
  },
  {
   "cell_type": "code",
   "execution_count": 29,
   "id": "f10fb055-1cee-41d9-a61c-738e23ddd7a7",
   "metadata": {},
   "outputs": [
    {
     "data": {
      "text/plain": [
       "['piyush', 'ranjan', 'abc']"
      ]
     },
     "execution_count": 29,
     "metadata": {},
     "output_type": "execute_result"
    }
   ],
   "source": [
    "l2_str"
   ]
  },
  {
   "cell_type": "code",
   "execution_count": null,
   "id": "297b2600-f54a-416c-8adf-778058841871",
   "metadata": {},
   "outputs": [],
   "source": []
  }
 ],
 "metadata": {
  "kernelspec": {
   "display_name": "Python 3 (ipykernel)",
   "language": "python",
   "name": "python3"
  },
  "language_info": {
   "codemirror_mode": {
    "name": "ipython",
    "version": 3
   },
   "file_extension": ".py",
   "mimetype": "text/x-python",
   "name": "python",
   "nbconvert_exporter": "python",
   "pygments_lexer": "ipython3",
   "version": "3.10.8"
  }
 },
 "nbformat": 4,
 "nbformat_minor": 5
}
